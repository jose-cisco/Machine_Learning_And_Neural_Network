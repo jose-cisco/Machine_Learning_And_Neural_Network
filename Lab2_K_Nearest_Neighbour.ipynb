{
  "cells": [
    {
      "cell_type": "markdown",
      "metadata": {
        "id": "SdGHM1veGvL4"
      },
      "source": [
        "## MNIST Handwritten Digit dataset\n",
        "![alt text](https://www.researchgate.net/profile/Steven_Young11/publication/306056875/figure/fig1/AS:393921575309346@1470929630835/Example-images-from-the-MNIST-dataset.png)"
      ]
    },
    {
      "cell_type": "code",
      "execution_count": null,
      "metadata": {
        "id": "GKu2VA_lAhLv",
        "colab": {
          "base_uri": "https://localhost:8080/"
        },
        "outputId": "f547d0d3-1e33-481c-b765-8019c52ad94c"
      },
      "outputs": [
        {
          "output_type": "stream",
          "name": "stdout",
          "text": [
            "(1797, 64)\n",
            "[0 1 2 ... 8 9 8]\n"
          ]
        }
      ],
      "source": [
        "from sklearn import datasets\n",
        "\n",
        "digits = datasets.load_digits()\n",
        "X_digits = digits.data\n",
        "y_digits = digits.target\n",
        "print(X_digits.shape)\n",
        "print(y_digits)"
      ]
    },
    {
      "cell_type": "markdown",
      "metadata": {
        "id": "E7jOEsyUGvL7"
      },
      "source": [
        "#1. เขียนคำสั่งแบ่งชุดข้อมูลสอนและข้อมูลทดสอบเป็น 80% และ 20% ตามลำดับ"
      ]
    },
    {
      "cell_type": "code",
      "execution_count": null,
      "metadata": {
        "colab": {
          "base_uri": "https://localhost:8080/"
        },
        "id": "h7J4VVwqGvL9",
        "outputId": "e03b1244-71e0-44e1-e09c-3946a0767b5c"
      },
      "outputs": [
        {
          "output_type": "stream",
          "name": "stdout",
          "text": [
            "(360, 64)\n"
          ]
        }
      ],
      "source": [
        "from sklearn.model_selection import train_test_split\n",
        "\n",
        "test_size = 0.2\n",
        "X_train, X_test, Y_train, Y_test = train_test_split(X_digits, y_digits, test_size=0.2)\n",
        "print(X_test.shape)"
      ]
    },
    {
      "cell_type": "markdown",
      "metadata": {
        "id": "frH-njzyAvI8"
      },
      "source": [
        "## 2. สร้างโมเดล 1-NN โดยใช้ข้อมูลสอนที่ถูกแบ่งไว้ก่อนหน้า จากนั้นทดสอบด้วยข้อมูลทดสอบ และแสดงค่าความแม่นยำ (accuracy)"
      ]
    },
    {
      "cell_type": "code",
      "execution_count": null,
      "metadata": {
        "id": "PEa2vRrfAtdc",
        "colab": {
          "base_uri": "https://localhost:8080/"
        },
        "outputId": "db8581ce-d97e-40df-b7e1-9ee312fea2f2"
      },
      "outputs": [
        {
          "output_type": "stream",
          "name": "stdout",
          "text": [
            "Accuracy 99.44%\n"
          ]
        }
      ],
      "source": [
        "from sklearn.neighbors import KNeighborsClassifier\n",
        "import numpy as np\n",
        "\n",
        "model =  KNeighborsClassifier(n_neighbors = 1)\n",
        "model.fit(X_train, Y_train)\n",
        "\n",
        "result1 = model.score(X_test, Y_test)\n",
        "print('Accuracy %.2f%%' % (result1*100.0))"
      ]
    },
    {
      "cell_type": "markdown",
      "metadata": {
        "id": "sH7BzDYOBPH9"
      },
      "source": [
        "## 3. เขียนคำสั่ง normalize ค่าข้อมูลก่อนนำไปฝึกฝน 1-NN เปรียบเทียบผลลัพธ์ระหว่างการ normalize และ non-normalize อินพุตข้อมูล ว่าความแม่นยำแบบไหนสูงกว่ากัน"
      ]
    },
    {
      "cell_type": "code",
      "execution_count": null,
      "metadata": {
        "id": "E5tK4Ae7Bc7B",
        "colab": {
          "base_uri": "https://localhost:8080/"
        },
        "outputId": "3c584a3b-ce14-4ba9-9620-183391341a90"
      },
      "outputs": [
        {
          "output_type": "stream",
          "name": "stdout",
          "text": [
            "Accuracy 99.44%\n"
          ]
        }
      ],
      "source": [
        "from sklearn.preprocessing import MinMaxScaler\n",
        "\n",
        "scaler = MinMaxScaler(feature_range=(0, 1))\n",
        "rescaledX1 = scaler.fit_transform(X_train)             # normalize training dataset into 0 to 1\n",
        "rescaledX2 = scaler.fit_transform(X_test)              # normalize test dataset into 0 to 1\n",
        "\n",
        "model =  KNeighborsClassifier(n_neighbors = 1)\n",
        "model.fit(rescaledX1, Y_train)\n",
        "\n",
        "result2 = model.score(rescaledX2, Y_test)\n",
        "print(\"Accuracy %.2f%%\" % (result2*100.0))   # print accuracy of KNN"
      ]
    },
    {
      "cell_type": "code",
      "source": [
        "print(X_test)\n",
        "print(rescaledX2)"
      ],
      "metadata": {
        "colab": {
          "base_uri": "https://localhost:8080/"
        },
        "id": "pdZhEG-UbonO",
        "outputId": "1c78efa2-b839-49a0-a61c-55bfd6656df0"
      },
      "execution_count": null,
      "outputs": [
        {
          "output_type": "stream",
          "name": "stdout",
          "text": [
            "[[ 0.  0. 11. ...  1.  0.  0.]\n",
            " [ 0.  0.  4. ...  8.  0.  0.]\n",
            " [ 0.  0.  0. ... 15.  4.  0.]\n",
            " ...\n",
            " [ 0.  3. 11. ...  0.  0.  0.]\n",
            " [ 0.  0.  7. ...  3.  0.  0.]\n",
            " [ 0.  0.  5. ... 14.  5.  0.]]\n",
            "[[0.     0.     0.6875 ... 0.0625 0.     0.    ]\n",
            " [0.     0.     0.25   ... 0.5    0.     0.    ]\n",
            " [0.     0.     0.     ... 0.9375 0.25   0.    ]\n",
            " ...\n",
            " [0.     0.6    0.6875 ... 0.     0.     0.    ]\n",
            " [0.     0.     0.4375 ... 0.1875 0.     0.    ]\n",
            " [0.     0.     0.3125 ... 0.875  0.3125 0.    ]]\n"
          ]
        }
      ]
    },
    {
      "cell_type": "markdown",
      "metadata": {
        "id": "3V9c4--8BpZz"
      },
      "source": [
        "##  4. เขียนคำสั่งแสดงค่าความแม่นยำสำหรับ k-NN  โดยที่ k = 1, 3, 5, 7, 9, ...., 21"
      ]
    },
    {
      "cell_type": "code",
      "execution_count": null,
      "metadata": {
        "id": "d-91demUBAa8",
        "outputId": "fc37bda2-d9ec-492d-a752-1062fa815594",
        "colab": {
          "base_uri": "https://localhost:8080/"
        }
      },
      "outputs": [
        {
          "output_type": "stream",
          "name": "stdout",
          "text": [
            "K=  1 Accuracy 99.44%\n",
            "K=  3 Accuracy 98.61%\n",
            "K=  5 Accuracy 99.17%\n",
            "K=  7 Accuracy 98.33%\n",
            "K=  9 Accuracy 98.61%\n",
            "K=  11 Accuracy 98.33%\n",
            "K=  13 Accuracy 97.78%\n",
            "K=  15 Accuracy 97.22%\n",
            "K=  17 Accuracy 97.50%\n",
            "K=  19 Accuracy 97.50%\n",
            "K=  21 Accuracy 97.50%\n"
          ]
        }
      ],
      "source": [
        "for i in range(1, 23, 2):\n",
        "    model =  KNeighborsClassifier(n_neighbors = i)\n",
        "    model.fit(X_train, Y_train)\n",
        "    result = model.score(X_test, Y_test)\n",
        "    print('K= ', i, \"Accuracy %.2f%%\" % (result*100.0))   # print accuracy of KNN"
      ]
    },
    {
      "cell_type": "markdown",
      "metadata": {
        "id": "cTD0_vXrGvMN"
      },
      "source": [
        "## 5.เขียนคำสั่งสร้างโมเดล Nearest Centroid โดยใช้ข้อมูล normalize แล้ว พร้อมเปรียบเทียบผลลัพธ์กับ 1-NN   "
      ]
    },
    {
      "cell_type": "code",
      "execution_count": null,
      "metadata": {
        "colab": {
          "base_uri": "https://localhost:8080/"
        },
        "id": "hXYzRRm6GvMP",
        "outputId": "b02cb906-a158-4677-c0b7-341c5f336ef1"
      },
      "outputs": [
        {
          "output_type": "stream",
          "name": "stdout",
          "text": [
            "Accuracy of 1-nn : 99.44444444444444 , Accuracy of nearest centroid 91.94444444444444\n"
          ]
        }
      ],
      "source": [
        "from sklearn.neighbors import NearestCentroid\n",
        "from sklearn.neighbors import KNeighborsClassifier\n",
        "\n",
        "model_knn =  KNeighborsClassifier(n_neighbors = 1)\n",
        "model_centr = NearestCentroid()\n",
        "\n",
        "model_knn.fit(rescaledX1, Y_train)\n",
        "model_centr.fit(rescaledX1, Y_train)\n",
        "\n",
        "result1 = model_knn.score(rescaledX2, Y_test)\n",
        "result2 = model_centr.score(rescaledX2, Y_test)\n",
        "\n",
        "print(\"Accuracy of 1-nn : {} , Accuracy of nearest centroid {}\".format(result1*100.0, result2*100.0))   # print accuracy of KNN\n",
        "\n"
      ]
    },
    {
      "cell_type": "markdown",
      "metadata": {
        "id": "x6GDcIU-GvMW"
      },
      "source": [
        "## 4. ศึกษาอัลกอริทึม KD-tree จากเว็บ แล้วทำการปรับปรุงโค๊ดให้ใช้อัลกอริทึมดังกล่าว\n",
        "\n",
        "http://scikit-learn.org/stable/modules/generated/sklearn.neighbors.KDTree.html"
      ]
    },
    {
      "cell_type": "code",
      "execution_count": null,
      "metadata": {
        "colab": {
          "base_uri": "https://localhost:8080/"
        },
        "id": "NAKqIqA9GvMX",
        "outputId": "aa58f706-4a3c-4e1b-c089-faa90a902d4c"
      },
      "outputs": [
        {
          "output_type": "stream",
          "name": "stdout",
          "text": [
            "nearest sample : [250] with distance [11.5758369]\n",
            "predicted label =  0  actual label :  0\n"
          ]
        }
      ],
      "source": [
        "import numpy as np\n",
        "from sklearn.neighbors import KDTree\n",
        "\n",
        "np.random.seed(0)\n",
        "tree = KDTree(X_train)         ## build kd-tree\n",
        "\n",
        "idx = 5\n",
        "nearest_dist, nearest_ind = tree.query([X_test[idx,:]], k = 1)    # k=1 nearest neighbors\n",
        "print('nearest sample : {} with distance {}'.format(nearest_ind[0], nearest_dist[0]))\n",
        "\n",
        "print('predicted label = ', Y_train[nearest_ind[0,0]], ' actual label : ', Y_test[idx])"
      ]
    },
    {
      "cell_type": "code",
      "execution_count": null,
      "metadata": {
        "colab": {
          "base_uri": "https://localhost:8080/"
        },
        "id": "clRkxMDcSyL-",
        "outputId": "a1070040-fef4-4fc1-dda7-c2f658bad413"
      },
      "outputs": [
        {
          "output_type": "stream",
          "name": "stdout",
          "text": [
            "actual label  [7 7 0 5 4 0 6 8 6 3 7 7 0 7 0 7 0 3 3 7 4 6 9 6 6 4 8 4 6 8 8 6 5 5 2 2 9\n",
            " 4 9 9 7 9 0 5 8 6 0 1 5 8 1 4 0 2 5 0 5 9 9 3 7 2 3 8 6 3 6 7 4 6 6 9 6 2\n",
            " 9 9 6 4 6 6 5 1 4 1 8 5 2 0 9 9 1 3 3 1 0 0 6 2 4 6 5 8 7 3 4 0 6 8 2 6 1\n",
            " 6 9 6 6 3 6 5 2 2 2 0 7 9 9 3 3 5 3 7 9 0 3 4 3 1 5 5 1 6 0 6 8 2 3 7 6 4\n",
            " 4 8 1 8 5 8 8 9 1 5 4 0 8 2 0 1 1 5 5 0 8 7 2 9 3 4 1 8 1 2 3 1 6 8 3 4 9\n",
            " 0 7 5 5 9 7 0 3 3 5 7 9 6 4 5 2 6 3 1 4 1 1 5 7 5 0 7 0 1 9 2 4 2 2 2 0 3\n",
            " 3 7 6 7 9 7 8 4 4 2 2 6 5 7 2 9 3 6 8 9 0 7 2 5 8 3 0 7 9 6 2 5 9 7 1 2 0\n",
            " 4 3 5 7 9 2 6 3 0 0 0 8 9 8 1 5 4 2 6 4 7 5 6 6 3 2 2 1 5 7 1 2 5 4 5 9 7\n",
            " 4 6 8 4 2 5 0 9 9 1 6 5 6 5 5 4 8 0 0 9 8 3 8 6 8 3 1 4 3 7 8 9 8 6 4 7 5\n",
            " 3 1 0 9 1 8 8 1 9 9 7 2 7 5 7 8 0 1 8 4 6 0 7 6 2 8 1]\n",
            "Accuracy =  98.88888888888889\n"
          ]
        }
      ],
      "source": [
        "import numpy as np\n",
        "from sklearn.neighbors import KDTree\n",
        "\n",
        "np.random.seed(0)\n",
        "tree = KDTree(X_train)\n",
        "\n",
        "nearest_dist, nearest_ind = tree.query(X_test, k = 1)  # k=1 nearest neighbors\n",
        "\n",
        "#print(nearest_ind)\n",
        "\n",
        "KK = Y_train[nearest_ind[:,0]]\n",
        "print('actual label ', Y_test)\n",
        "\n",
        "print('Accuracy = ', (1.0 - np.sum(KK != Y_test)/len(KK))*100)"
      ]
    },
    {
      "cell_type": "code",
      "source": [],
      "metadata": {
        "id": "qGqtbojHvjV9"
      },
      "execution_count": null,
      "outputs": []
    }
  ],
  "metadata": {
    "colab": {
      "provenance": []
    },
    "kernelspec": {
      "display_name": "Python 3 (ipykernel)",
      "language": "python",
      "name": "python3"
    },
    "language_info": {
      "codemirror_mode": {
        "name": "ipython",
        "version": 3
      },
      "file_extension": ".py",
      "mimetype": "text/x-python",
      "name": "python",
      "nbconvert_exporter": "python",
      "pygments_lexer": "ipython3",
      "version": "3.8.11"
    }
  },
  "nbformat": 4,
  "nbformat_minor": 0
}