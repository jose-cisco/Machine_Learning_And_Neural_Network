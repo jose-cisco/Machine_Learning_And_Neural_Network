{
  "nbformat": 4,
  "nbformat_minor": 0,
  "metadata": {
    "colab": {
      "name": "ปิติภาคย์ งานที่ 1.ipynb",
      "provenance": [],
      "collapsed_sections": []
    },
    "kernelspec": {
      "name": "python3",
      "display_name": "Python 3"
    },
    "language_info": {
      "name": "python"
    }
  },
  "cells": [
    {
      "cell_type": "code",
      "execution_count": null,
      "metadata": {
        "colab": {
          "base_uri": "https://localhost:8080/"
        },
        "id": "_NWU4Poe3L0Y",
        "outputId": "6ab6afcd-de0d-4fe8-ead1-f9bc19bf0d9d"
      },
      "outputs": [
        {
          "output_type": "stream",
          "name": "stdout",
          "text": [
            "0 0\n",
            "0 1\n",
            "1 0\n",
            "1 1\n",
            "2 0\n",
            "2 1\n"
          ]
        }
      ],
      "source": [
        "for i in range(3):\n",
        "  for j in range(2):\n",
        "    print(i,j)"
      ]
    },
    {
      "cell_type": "code",
      "source": [
        "for i in range(1,4):\n",
        "  for j in range(i):\n",
        "    print(i,j)"
      ],
      "metadata": {
        "colab": {
          "base_uri": "https://localhost:8080/"
        },
        "id": "yob7sj8b3a9A",
        "outputId": "22ec1d6a-7b6b-4542-b94d-09e951154f37"
      },
      "execution_count": null,
      "outputs": [
        {
          "output_type": "stream",
          "name": "stdout",
          "text": [
            "1 0\n",
            "2 0\n",
            "2 1\n",
            "3 0\n",
            "3 1\n",
            "3 2\n"
          ]
        }
      ]
    },
    {
      "cell_type": "code",
      "source": [
        "for i in range(1,3):\n",
        "  for j in range(2,5):\n",
        "    print(i,j)"
      ],
      "metadata": {
        "colab": {
          "base_uri": "https://localhost:8080/"
        },
        "id": "NGfmkH566I2n",
        "outputId": "8a1ba99b-6e91-4a76-f133-10e6d3b4652b"
      },
      "execution_count": null,
      "outputs": [
        {
          "output_type": "stream",
          "name": "stdout",
          "text": [
            "1 2\n",
            "1 3\n",
            "1 4\n",
            "2 2\n",
            "2 3\n",
            "2 4\n"
          ]
        }
      ]
    },
    {
      "cell_type": "code",
      "source": [
        "d = [28,12,32,23,37,40,89,65,10]\n",
        "max = d[5]\n",
        "for i in d:\n",
        "  if max<i:\n",
        "     max=i\n",
        "     print(i)"
      ],
      "metadata": {
        "colab": {
          "base_uri": "https://localhost:8080/"
        },
        "id": "yrucfjGlpM2L",
        "outputId": "0b56a698-9f8e-47f2-bbf5-0465f1a4bc12"
      },
      "execution_count": 9,
      "outputs": [
        {
          "output_type": "stream",
          "name": "stdout",
          "text": [
            "89\n"
          ]
        }
      ]
    },
    {
      "cell_type": "code",
      "source": [
        "X=[3,3,4,3,3,4,4,0]\n",
        "Y=[0,0,0,0,0]\n",
        "count=0\n",
        "for i in X:\n",
        "  for j in Y:\n",
        "    if count==i:\n",
        "      Y[i]+=1\n",
        "    if count >=len(Y):\n",
        "      count=0\n",
        "    else:\n",
        "      count+=1\n",
        "print(Y)"
      ],
      "metadata": {
        "colab": {
          "base_uri": "https://localhost:8080/"
        },
        "id": "2PkyTkT3-tX_",
        "outputId": "f389a18b-fc63-4033-dbbe-15197df62cd9"
      },
      "execution_count": null,
      "outputs": [
        {
          "output_type": "stream",
          "name": "stdout",
          "text": [
            "[1, 0, 0, 4, 3]\n"
          ]
        }
      ]
    },
    {
      "cell_type": "code",
      "source": [
        "celcius=[39.2,36.5,37.3,37.8]\n",
        "cel = np.array(celcius)\n",
        "F=(cel*9/5)+32\n",
        "print(F)"
      ],
      "metadata": {
        "colab": {
          "base_uri": "https://localhost:8080/"
        },
        "id": "OYbDY2SZ6qu2",
        "outputId": "1d6a93e2-6309-41ab-bb92-4f0ae1f78a48"
      },
      "execution_count": null,
      "outputs": [
        {
          "output_type": "stream",
          "name": "stdout",
          "text": [
            "[102.56  97.7   99.14 100.04]\n"
          ]
        }
      ]
    },
    {
      "cell_type": "code",
      "source": [
        "import numpy as np\n",
        "A = np.array([[1,2],[3,4]])\n",
        "B = np.array([[4,5],[6,7]])\n",
        "C = np.dot(A,B)\n",
        "print(C)"
      ],
      "metadata": {
        "colab": {
          "base_uri": "https://localhost:8080/"
        },
        "id": "rWl58mSk69if",
        "outputId": "a9caf393-ab8c-4b3c-9232-818d6c18b829"
      },
      "execution_count": null,
      "outputs": [
        {
          "output_type": "stream",
          "name": "stdout",
          "text": [
            "[[16 19]\n",
            " [36 43]]\n"
          ]
        }
      ]
    }
  ]
}